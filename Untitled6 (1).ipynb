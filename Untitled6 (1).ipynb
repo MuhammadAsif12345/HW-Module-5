{
  "nbformat": 4,
  "nbformat_minor": 0,
  "metadata": {
    "colab": {
      "name": "Untitled6.ipynb",
      "provenance": []
    },
    "kernelspec": {
      "name": "python3",
      "display_name": "Python 3"
    },
    "language_info": {
      "name": "python"
    }
  },
  "cells": [
    {
      "cell_type": "code",
      "execution_count": null,
      "metadata": {
        "id": "CdHG2_OKtnnu"
      },
      "outputs": [],
      "source": [
        "age = input(\"Please give me a number for your age\\t\")\n",
        "while not(age.isdigit()):\n",
        "  age = input(\"Please give me a number for your age\\t\")\n",
        "\n",
        "age = int(age)\n",
        "\n",
        "name = input(\"Please give me your name\\t\")\n",
        "while not(name.isalpha()):\n",
        "  name = (\"Please give me your name\\t\")\n",
        "\n",
        "num = -1\n",
        "\n",
        "while (num < 0 or num > 100):\n",
        "  num = int(input(\"Please give me a number between 1 and 100\\t\"))\n",
        "\n",
        "print(\"Acceptable \", num)\n",
        "\n",
        "\n"
      ]
    },
    {
      "cell_type": "code",
      "source": [
        "x = 341\n",
        "total = 0\n",
        "hasThree = False\n",
        "holder = x\n",
        "\n",
        "while(holder > 0):\n",
        "  if(holder%10 == 3):\n",
        "    hasThree = True\n",
        "    break\n",
        "  holder = holder // 10\n",
        "\n",
        "while(hasThree and x >0):\n",
        "  total += x%10\n",
        "  x = x//10\n",
        "\n",
        "print(total)"
      ],
      "metadata": {
        "colab": {
          "base_uri": "https://localhost:8080/"
        },
        "id": "tXcQ65T9v4Mg",
        "outputId": "0ea47ff8-0a89-4f27-957a-064d44b2f3c3"
      },
      "execution_count": null,
      "outputs": [
        {
          "output_type": "stream",
          "name": "stdout",
          "text": [
            "8\n"
          ]
        }
      ]
    },
    {
      "cell_type": "markdown",
      "source": [
        "### Print NUmbers with a 3 in them"
      ],
      "metadata": {
        "id": "9_VdOZmVyR6Z"
      }
    },
    {
      "cell_type": "code",
      "source": [
        "\n",
        "for x in range(1,1001):\n",
        "  hasThree = False\n",
        "  holder = x\n",
        "  while(holder > 0):\n",
        "    if(holder%10 == 3):\n",
        "      hasThree = True\n",
        "      break\n",
        "    holder = holder // 10\n",
        "\n",
        "  if(hasThree):\n",
        "    print(x,end=\" \")"
      ],
      "metadata": {
        "colab": {
          "base_uri": "https://localhost:8080/"
        },
        "id": "zDayvVs_yYiX",
        "outputId": "dde5acef-bfb5-41a5-c464-3404cf96808a"
      },
      "execution_count": null,
      "outputs": [
        {
          "output_type": "stream",
          "name": "stdout",
          "text": [
            "3 13 23 30 31 32 33 34 35 36 37 38 39 43 53 63 73 83 93 103 113 123 130 131 132 133 134 135 136 137 138 139 143 153 163 173 183 193 203 213 223 230 231 232 233 234 235 236 237 238 239 243 253 263 273 283 293 300 301 302 303 304 305 306 307 308 309 310 311 312 313 314 315 316 317 318 319 320 321 322 323 324 325 326 327 328 329 330 331 332 333 334 335 336 337 338 339 340 341 342 343 344 345 346 347 348 349 350 351 352 353 354 355 356 357 358 359 360 361 362 363 364 365 366 367 368 369 370 371 372 373 374 375 376 377 378 379 380 381 382 383 384 385 386 387 388 389 390 391 392 393 394 395 396 397 398 399 403 413 423 430 431 432 433 434 435 436 437 438 439 443 453 463 473 483 493 503 513 523 530 531 532 533 534 535 536 537 538 539 543 553 563 573 583 593 603 613 623 630 631 632 633 634 635 636 637 638 639 643 653 663 673 683 693 703 713 723 730 731 732 733 734 735 736 737 738 739 743 753 763 773 783 793 803 813 823 830 831 832 833 834 835 836 837 838 839 843 853 863 873 883 893 903 913 923 930 931 932 933 934 935 936 937 938 939 943 953 963 973 983 993 "
          ]
        }
      ]
    },
    {
      "cell_type": "markdown",
      "source": [
        "### Show Numbers Whose Digits Add to 17"
      ],
      "metadata": {
        "id": "B2D_6FKDzSMB"
      }
    },
    {
      "cell_type": "code",
      "source": [
        "for x in range(1,100001):\n",
        "  total = 0\n",
        "  holder = x\n",
        "while(holder >0):\n",
        "  total += holder%10\n",
        "  holder = holder//10\n",
        "\n",
        "if(holder == 17):\n",
        "  print(x, end=\" \")"
      ],
      "metadata": {
        "id": "EldheoaKzXFw"
      },
      "execution_count": null,
      "outputs": []
    },
    {
      "cell_type": "markdown",
      "source": [
        "### Show Numbers Whose Digits Add to 23 and Have a 3 in Them"
      ],
      "metadata": {
        "id": "z4jN1Mk40pz0"
      }
    },
    {
      "cell_type": "code",
      "source": [
        "for i in range(1,10001):\n",
        "  total = 0\n",
        "  hasThree = False\n",
        "  x = holder = i\n",
        "\n",
        "  while(holder > 0):\n",
        "    if(holder%10 == 3):\n",
        "      hasThree = True\n",
        "      break\n",
        "    holder = holder // 10\n",
        "\n",
        "  while(hasThree and x >0):\n",
        "    total += x%10\n",
        "    x = x//10\n",
        "\n",
        "  if(total == 23):\n",
        "    print(i, end=\" \")"
      ],
      "metadata": {
        "colab": {
          "base_uri": "https://localhost:8080/"
        },
        "id": "fHWO2Rec0xQo",
        "outputId": "21ee5df1-64b3-4148-81e0-0b0bdd7b4f03"
      },
      "execution_count": null,
      "outputs": [
        {
          "output_type": "stream",
          "name": "stdout",
          "text": [
            "2399 2939 2993 3299 3389 3398 3479 3488 3497 3569 3578 3587 3596 3659 3668 3677 3686 3695 3749 3758 3767 3776 3785 3794 3839 3848 3857 3866 3875 3884 3893 3929 3938 3947 3956 3965 3974 3983 3992 4379 4388 4397 4739 4793 4838 4883 4937 4973 5369 5378 5387 5396 5639 5693 5738 5783 5837 5873 5936 5963 6359 6368 6377 6386 6395 6539 6593 6638 6683 6737 6773 6836 6863 6935 6953 7349 7358 7367 7376 7385 7394 7439 7493 7538 7583 7637 7673 7736 7763 7835 7853 7934 7943 8339 8348 8357 8366 8375 8384 8393 8438 8483 8537 8573 8636 8663 8735 8753 8834 8843 8933 9239 9293 9329 9338 9347 9356 9365 9374 9383 9392 9437 9473 9536 9563 9635 9653 9734 9743 9833 9923 9932 "
          ]
        }
      ]
    },
    {
      "cell_type": "code",
      "source": [
        "for i in range(100,1,-1):\n",
        "  print(i, end=\" | \")"
      ],
      "metadata": {
        "colab": {
          "base_uri": "https://localhost:8080/"
        },
        "id": "8M3riSyd3axp",
        "outputId": "e599750c-f935-4087-e125-3cf0c5d81e6f"
      },
      "execution_count": null,
      "outputs": [
        {
          "output_type": "stream",
          "name": "stdout",
          "text": [
            "100 | 99 | 98 | 97 | 96 | 95 | 94 | 93 | 92 | 91 | 90 | 89 | 88 | 87 | 86 | 85 | 84 | 83 | 82 | 81 | 80 | 79 | 78 | 77 | 76 | 75 | 74 | 73 | 72 | 71 | 70 | 69 | 68 | 67 | 66 | 65 | 64 | 63 | 62 | 61 | 60 | 59 | 58 | 57 | 56 | 55 | 54 | 53 | 52 | 51 | 50 | 49 | 48 | 47 | 46 | 45 | 44 | 43 | 42 | 41 | 40 | 39 | 38 | 37 | 36 | 35 | 34 | 33 | 32 | 31 | 30 | 29 | 28 | 27 | 26 | 25 | 24 | 23 | 22 | 21 | 20 | 19 | 18 | 17 | 16 | 15 | 14 | 13 | 12 | 11 | 10 | 9 | 8 | 7 | 6 | 5 | 4 | 3 | 2 | "
          ]
        }
      ]
    },
    {
      "cell_type": "code",
      "source": [
        "for i in range(100,1001):\n",
        "  isPrime = True\n",
        "\n",
        "  start = 2\n",
        "  while(start < i):\n",
        "    if(i % start == 0):\n",
        "      isPrime = False\n",
        "      break\n",
        "    start += 1\n",
        "\n",
        "  if(isPrime):\n",
        "    print(i,end=\" | \")"
      ],
      "metadata": {
        "colab": {
          "base_uri": "https://localhost:8080/"
        },
        "id": "oerLlN-Z3qoI",
        "outputId": "e805fda9-a063-421d-9c39-e394e408b415"
      },
      "execution_count": null,
      "outputs": [
        {
          "output_type": "stream",
          "name": "stdout",
          "text": [
            "101 | 103 | 107 | 109 | 113 | 127 | 131 | 137 | 139 | 149 | 151 | 157 | 163 | 167 | 173 | 179 | 181 | 191 | 193 | 197 | 199 | 211 | 223 | 227 | 229 | 233 | 239 | 241 | 251 | 257 | 263 | 269 | 271 | 277 | 281 | 283 | 293 | 307 | 311 | 313 | 317 | 331 | 337 | 347 | 349 | 353 | 359 | 367 | 373 | 379 | 383 | 389 | 397 | 401 | 409 | 419 | 421 | 431 | 433 | 439 | 443 | 449 | 457 | 461 | 463 | 467 | 479 | 487 | 491 | 499 | 503 | 509 | 521 | 523 | 541 | 547 | 557 | 563 | 569 | 571 | 577 | 587 | 593 | 599 | 601 | 607 | 613 | 617 | 619 | 631 | 641 | 643 | 647 | 653 | 659 | 661 | 673 | 677 | 683 | 691 | 701 | 709 | 719 | 727 | 733 | 739 | 743 | 751 | 757 | 761 | 769 | 773 | 787 | 797 | 809 | 811 | 821 | 823 | 827 | 829 | 839 | 853 | 857 | 859 | 863 | 877 | 881 | 883 | 887 | 907 | 911 | 919 | 929 | 937 | 941 | 947 | 953 | 967 | 971 | 977 | 983 | 991 | 997 | "
          ]
        }
      ]
    }
  ]
}